{
 "cells": [
  {
   "cell_type": "code",
   "execution_count": 1,
   "metadata": {},
   "outputs": [],
   "source": [
    "import random\n",
    "import pandas as pd\n",
    "import numpy as np"
   ]
  },
  {
   "cell_type": "code",
   "execution_count": null,
   "metadata": {},
   "outputs": [],
   "source": [
    "# Define Helper Functions\n",
    "# 1. Split the data\n",
    "# Split a dataset based on a feature and a given threshold\n",
    "def split_data (feature_index, threshold, data):\n",
    "    left, right = [], []\n",
    "    for row in data:\n",
    "        if row[feature_index] <= threshold:\n",
    "            left.append(row)\n",
    "        else:\n",
    "            right.append(row)\n",
    "    return left, right\n",
    "\n",
    "# 2. Gini Impurity \n",
    "# weighted gini impurity = (left group size / total samples)* Gini_left + (right group size / total samples)* Gini_right\n",
    "def gini_impurity(groups, classes, class_index):\n",
    "    '''\n",
    "    Parameters:\n",
    "        groups: A list of all subsets (left and right groups)\n",
    "        classes: Target classes, e.g. 0 & 1, male and female\n",
    "        class_index: Column index of class label in the data\n",
    "    '''\n",
    "    total_sample = sum(len(group) for group in groups) \n",
    "    weighted_gini = 0\n",
    "    for group in groups:\n",
    "        group_size = len(group)\n",
    "        if group_size == 0:\n",
    "            continue # skip empty groups\n",
    "        \n",
    "        gini = 0\n",
    "        for class_label in classes:\n",
    "            class_size = sum(1 for row in group if row[class_index] == class_label)\n",
    "            p = class_size/group_size \n",
    "            gini += p**2\n",
    "        group_gini = 1-gini\n",
    "        weighted_gini += group_gini * (group_size/total_sample)\n",
    "\n",
    "    return weighted_gini"
   ]
  },
  {
   "cell_type": "code",
   "execution_count": null,
   "metadata": {},
   "outputs": [],
   "source": [
    "# Find the best split\n",
    "def find_best_split(data, target_index):\n",
    "    '''\n",
    "    Parameters:\n",
    "        data: Input dataset where rows are samples and columns are features.\n",
    "        target_index: The index of the column which is chosen to be the target variable.\n",
    "    \n",
    "    Returns:\n",
    "        best_feature_index: The index of the best feature of splitting.\n",
    "        best_threshold: The threshold or values that gives the best split.\n",
    "        best_score: The best (lowest) gini impurity score for the split.\n",
    "    '''\n",
    "    best_feature_index = None\n",
    "    best_threshold = None\n",
    "    best_score = float('inf')\n",
    "\n",
    "    data = np.array(data)\n",
    "    n_features = data.shape[1] # number of columns in the data\n",
    "\n",
    "    # Extract unique class labels from the target column\n",
    "    classes = np.unique(data[:, target_index])\n",
    "\n",
    "    for feature_index in range(n_features):\n",
    "        if feature_index == target_index:\n",
    "            continue # skip the target column\n",
    "\n",
    "        # Extract unique values for each feature to test as splitting thresholds:\n",
    "        thresholds = np.unique(data[:, feature_index])\n",
    "        for threshold in thresholds:\n",
    "            # Split the dataset into left and right groups using the defined function\n",
    "            left_group, right_group = split_data(feature_index, threshold, data)\n",
    "            groups = [left_group, right_group]\n",
    "\n",
    "            if len(left_group) == 0 or len(right_group) == 0:\n",
    "                continue # skip empty groups \n",
    "\n",
    "            # Compute gini impurity using the defined function\n",
    "            score = gini_impurity(groups, classes, target_index)\n",
    "\n",
    "            # Update the best split if the current score is better (lower)\n",
    "            if score < best_score:\n",
    "                best_score = score\n",
    "                best_feature_index = feature_index\n",
    "                best_threshold = threshold\n",
    "                \n",
    "    return best_feature_index, best_threshold, best_score"
   ]
  },
  {
   "cell_type": "code",
   "execution_count": null,
   "metadata": {},
   "outputs": [],
   "source": [
    "# Recursive binary splitting -- building a tree\n",
    "\n"
   ]
  }
 ],
 "metadata": {
  "kernelspec": {
   "display_name": "Python 3",
   "language": "python",
   "name": "python3"
  },
  "language_info": {
   "codemirror_mode": {
    "name": "ipython",
    "version": 3
   },
   "file_extension": ".py",
   "mimetype": "text/x-python",
   "name": "python",
   "nbconvert_exporter": "python",
   "pygments_lexer": "ipython3",
   "version": "3.11.5"
  }
 },
 "nbformat": 4,
 "nbformat_minor": 2
}
